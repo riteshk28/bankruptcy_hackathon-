{
 "cells": [
  {
   "cell_type": "code",
   "execution_count": 4,
   "metadata": {
    "collapsed": true
   },
   "outputs": [],
   "source": [
    "from scipy.io import arff\n",
    "import pandas as pd\n",
    "import glob"
   ]
  },
  {
   "cell_type": "code",
   "execution_count": 5,
   "metadata": {
    "collapsed": true
   },
   "outputs": [],
   "source": [
    "raw_data = arff.loadarff('1year.arff')\n",
    "all_data = pd.DataFrame(raw_data[0])"
   ]
  },
  {
   "cell_type": "code",
   "execution_count": 7,
   "metadata": {},
   "outputs": [],
   "source": [
    "x='X'\n",
    "col = [str(x)+str(i) for i in range(1,66)]\n",
    "all_data.columns=col"
   ]
  },
  {
   "cell_type": "code",
   "execution_count": 4,
   "metadata": {
    "collapsed": true
   },
   "outputs": [],
   "source": [
    "'''all_data=pd.DataFrame()\n",
    "for f in glob.glob(\"H:/GREYATOM/data/*year.arff\"):\n",
    "    data = arff.loadarff(f) \n",
    "    df = pd.DataFrame(data[0])\n",
    "    all_data = all_data.append(df,ignore_index=True)'''#can be used for testing on complete 5years data.\n",
    " "
   ]
  },
  {
   "cell_type": "code",
   "execution_count": 8,
   "metadata": {
    "collapsed": true
   },
   "outputs": [],
   "source": [
    "from sklearn.preprocessing import Imputer\n",
    "imp_median = Imputer(missing_values = 'NaN', strategy='median')\n",
    "for i in range(1,65):\n",
    "  imp_median.fit(all_data[['X'+str(i)]])\n",
    "  all_data['X'+str(i)] = imp_median.transform(all_data[['X'+str(i)]])"
   ]
  },
  {
   "cell_type": "code",
   "execution_count": 11,
   "metadata": {
    "collapsed": true
   },
   "outputs": [],
   "source": [
    "all_data1 = all_data[['X24','X27','X34','X46','X58','X44','X16','X35','X65']]\n",
    "#the features are obtained from features importance activity."
   ]
  },
  {
   "cell_type": "code",
   "execution_count": 12,
   "metadata": {},
   "outputs": [
    {
     "name": "stderr",
     "output_type": "stream",
     "text": [
      "C:\\Users\\ritesh.kankonkar\\AppData\\Local\\Continuum\\anaconda2\\lib\\site-packages\\ipykernel_launcher.py:4: SettingWithCopyWarning: \n",
      "A value is trying to be set on a copy of a slice from a DataFrame.\n",
      "Try using .loc[row_indexer,col_indexer] = value instead\n",
      "\n",
      "See the caveats in the documentation: http://pandas.pydata.org/pandas-docs/stable/indexing.html#indexing-view-versus-copy\n",
      "  after removing the cwd from sys.path.\n"
     ]
    }
   ],
   "source": [
    "from sklearn.preprocessing import LabelEncoder\n",
    "from sklearn.preprocessing import LabelEncoder\n",
    "lablel_encoder = LabelEncoder()\n",
    "all_data1['X65'] = lablel_encoder.fit_transform(all_data1['X65'])\n",
    "#all_data1['X65']"
   ]
  },
  {
   "cell_type": "code",
   "execution_count": 13,
   "metadata": {},
   "outputs": [
    {
     "data": {
      "text/plain": [
       "Index([u'X24', u'X27', u'X34', u'X46', u'X58', u'X44', u'X16', u'X35'], dtype='object')"
      ]
     },
     "execution_count": 13,
     "metadata": {},
     "output_type": "execute_result"
    }
   ],
   "source": [
    "x= all_data1.iloc[:,:-1]\n",
    "y = all_data1['X65']\n",
    "x.columns"
   ]
  },
  {
   "cell_type": "code",
   "execution_count": 14,
   "metadata": {
    "collapsed": true
   },
   "outputs": [],
   "source": [
    "from sklearn.model_selection import train_test_split"
   ]
  },
  {
   "cell_type": "code",
   "execution_count": 15,
   "metadata": {
    "collapsed": true
   },
   "outputs": [],
   "source": [
    "x_train, x_test,y_train,y_test = train_test_split(x,y,test_size = 0.1)"
   ]
  },
  {
   "cell_type": "code",
   "execution_count": 16,
   "metadata": {},
   "outputs": [
    {
     "name": "stdout",
     "output_type": "stream",
     "text": [
      "0.893194955334\n",
      "             precision    recall  f1-score   support\n",
      "\n",
      "          0       1.00      0.97      0.98       692\n",
      "          1       0.29      0.82      0.43        11\n",
      "\n",
      "avg / total       0.99      0.97      0.97       703\n",
      "\n"
     ]
    }
   ],
   "source": [
    "from sklearn.tree import DecisionTreeClassifier\n",
    "from sklearn.metrics import roc_auc_score\n",
    "from sklearn.linear_model import LogisticRegression\n",
    "from sklearn.metrics import accuracy_score,classification_report, precision_recall_curve, confusion_matrix\n",
    "from sklearn.linear_model import Lasso\n",
    "for i in range(2,5):\n",
    "    clf_entropy = DecisionTreeClassifier(criterion='entropy',max_depth=i)\n",
    "    clf_entropy.fit(x_train,y_train)\n",
    "    y_prediction_entropy = clf_entropy.predict(x_test)\n",
    "    accuracy_entropy = accuracy_score(y_test,y_prediction_entropy)\n",
    "print roc_auc_score(y_prediction_entropy,y_test)\n",
    "print classification_report(y_prediction_entropy,y_test)"
   ]
  },
  {
   "cell_type": "code",
   "execution_count": null,
   "metadata": {
    "collapsed": true
   },
   "outputs": [],
   "source": []
  }
 ],
 "metadata": {
  "kernelspec": {
   "display_name": "Python 2",
   "language": "python",
   "name": "python2"
  },
  "language_info": {
   "codemirror_mode": {
    "name": "ipython",
    "version": 2
   },
   "file_extension": ".py",
   "mimetype": "text/x-python",
   "name": "python",
   "nbconvert_exporter": "python",
   "pygments_lexer": "ipython2",
   "version": "2.7.14"
  }
 },
 "nbformat": 4,
 "nbformat_minor": 2
}
